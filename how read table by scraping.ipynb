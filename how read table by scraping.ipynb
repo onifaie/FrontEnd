{
 "cells": [
  {
   "cell_type": "code",
   "execution_count": 2,
   "metadata": {},
   "outputs": [
    {
     "name": "stdout",
     "output_type": "stream",
     "text": [
      "             0          1      2               3          4       5  \\\n",
      "0        Accra  Wed 10:57  30 °C        Edmonton  Wed 03:57  -10 °C   \n",
      "1  Addis Ababa  Wed 13:57  22 °C       Frankfurt  Wed 11:57    7 °C   \n",
      "2   Adelaide *  Wed 21:27  18 °C  Guatemala City  Wed 04:57   17 °C   \n",
      "\n",
      "             6          7      8  \n",
      "0       Nassau  Wed 05:57  26 °C  \n",
      "1    New Delhi  Wed 16:27  29 °C  \n",
      "2  New Orleans  Wed 04:57  22 °C  \n"
     ]
    }
   ],
   "source": [
    "## this import labraary to ust it in project \n",
    "\n",
    "import pandas as pd \n",
    "from bs4 import BeautifulSoup\n",
    "import numpy as np \n",
    "import matplotlib as pl \n",
    "import requests \n",
    "\n",
    "# read the scraping website \n",
    "r=requests.get('https://www.timeanddate.com/weather/')\n",
    "\n",
    "# convert to heml file \n",
    "soup=BeautifulSoup(r.text,'html.parser')\n",
    "item=soup.find_all('table',attrs={'class':'zebra fw tb-theme'})\n",
    "\n",
    "# make folr loop to find all tag indice table  to featch  it then send to datafream df \n",
    "res = []\n",
    "for table in item:                        # <-- add for here\n",
    "    table_rows = table.find_all('tr')       # <-- table.\n",
    "    for tr in table_rows:\n",
    "        td = tr.find_all('td')\n",
    "        row = [cell.text.strip() for cell in td if cell.text.strip()]\n",
    "        if row:\n",
    "            res.append(row)\n",
    "            \n",
    "# this how it result bllowing \n",
    "df = pd.DataFrame(res)\n",
    "print(df.head(3))\n",
    "\n"
   ]
  }
 ],
 "metadata": {
  "kernelspec": {
   "display_name": "Python 3",
   "language": "python",
   "name": "python3"
  },
  "language_info": {
   "codemirror_mode": {
    "name": "ipython",
    "version": 3
   },
   "file_extension": ".py",
   "mimetype": "text/x-python",
   "name": "python",
   "nbconvert_exporter": "python",
   "pygments_lexer": "ipython3",
   "version": "3.8.3"
  }
 },
 "nbformat": 4,
 "nbformat_minor": 4
}
