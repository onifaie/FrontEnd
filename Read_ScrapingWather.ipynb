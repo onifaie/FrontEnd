{
 "cells": [
  {
   "cell_type": "code",
   "execution_count": 62,
   "metadata": {
    "scrolled": true
   },
   "outputs": [
    {
     "name": "stdout",
     "output_type": "stream",
     "text": [
      "             0          1      2          3          4      5          6  \\\n",
      "0        Accra  Wed 09:08  28 °C     Dublin  Wed 09:08  13 °C    Nairobi   \n",
      "1  Addis Ababa  Wed 12:08  21 °C   Edmonton  Wed 02:08  -9 °C     Nassau   \n",
      "2   Adelaide *  Wed 19:38  21 °C  Frankfurt  Wed 10:08   7 °C  New Delhi   \n",
      "\n",
      "           7      8  \n",
      "0  Wed 12:08  20 °C  \n",
      "1  Wed 04:08  26 °C  \n",
      "2  Wed 14:38  26 °C  \n"
     ]
    }
   ],
   "source": [
    "import pandas as pd \n",
    "from bs4 import BeautifulSoup as sp\n",
    "import matplotlib as pl \n",
    "import numpy as np\n",
    "import requests \n",
    "\n",
    "r=requests.get('https://www.timeanddate.com/weather/')\n",
    "\n",
    "soup=BeautifulSoup(r.text,'html.parser')\n",
    "item=soup.find_all('table',attrs={'class':'zebra fw tb-theme'})\n",
    "\n",
    "\n",
    "\n",
    "#print(item)\n",
    "\n",
    "res = []\n",
    "for table in item:                        # <-- add for here\n",
    "    table_rows = table.find_all('tr')       # <-- table.\n",
    "    for tr in table_rows:\n",
    "        td = tr.find_all('td')\n",
    "        row = [cell.text.strip() for cell in td if cell.text.strip()]\n",
    "        if row:\n",
    "            res.append(row)\n",
    "\n",
    "df = pd.DataFrame(res)\n",
    "print(df.head(3))\n"
   ]
  }
 ],
 "metadata": {
  "kernelspec": {
   "display_name": "Python 3",
   "language": "python",
   "name": "python3"
  },
  "language_info": {
   "codemirror_mode": {
    "name": "ipython",
    "version": 3
   },
   "file_extension": ".py",
   "mimetype": "text/x-python",
   "name": "python",
   "nbconvert_exporter": "python",
   "pygments_lexer": "ipython3",
   "version": "3.8.3"
  }
 },
 "nbformat": 4,
 "nbformat_minor": 4
}
